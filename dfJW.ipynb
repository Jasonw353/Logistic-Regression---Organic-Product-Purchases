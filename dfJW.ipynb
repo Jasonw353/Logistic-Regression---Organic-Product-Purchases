{
 "cells": [
  {
   "cell_type": "code",
   "execution_count": 2,
   "id": "798d87be-8918-4ae0-9d6f-e55ec260d0c9",
   "metadata": {
    "tags": []
   },
   "outputs": [],
   "source": [
    "# Logistic Regression with Organics.csv and statsmodels library "
   ]
  },
  {
   "cell_type": "code",
   "execution_count": 5,
   "id": "fc132d7f-f460-44b4-82a0-a9fbba4ba8b4",
   "metadata": {
    "tags": []
   },
   "outputs": [],
   "source": [
    "# Organics.csv dataset is in the folder C:\\Users\\jason\\OneDrive\\Documents\\MBAD 6211 LAST SEMESTER"
   ]
  },
  {
   "cell_type": "code",
   "execution_count": 11,
   "id": "42e84400-7414-4ad8-b2b6-f398b1b6c3cc",
   "metadata": {
    "tags": []
   },
   "outputs": [],
   "source": [
    "#Import the os library to use file and folder methods\n",
    "import os"
   ]
  },
  {
   "cell_type": "code",
   "execution_count": 13,
   "id": "d1d1b348-7e7c-4ad2-9fd9-7f125512da04",
   "metadata": {
    "tags": []
   },
   "outputs": [
    {
     "data": {
      "text/plain": [
       "'C:\\\\Users\\\\jason'"
      ]
     },
     "execution_count": 13,
     "metadata": {},
     "output_type": "execute_result"
    }
   ],
   "source": [
    "# view the current working directory\n",
    "os.getcwd()"
   ]
  },
  {
   "cell_type": "code",
   "execution_count": 17,
   "id": "d81edc1d-4356-4d24-9860-ce5d25d7ba4f",
   "metadata": {
    "tags": []
   },
   "outputs": [],
   "source": [
    "#change to Documents directory under Jason\n",
    "os.chdir('Documents')\n"
   ]
  },
  {
   "cell_type": "code",
   "execution_count": 19,
   "id": "06d56bf5-cae2-456d-a7e7-2f2285340248",
   "metadata": {
    "tags": []
   },
   "outputs": [
    {
     "data": {
      "text/plain": [
       "'C:\\\\Users\\\\jason\\\\Documents'"
      ]
     },
     "execution_count": 19,
     "metadata": {},
     "output_type": "execute_result"
    }
   ],
   "source": [
    "os.getcwd()"
   ]
  },
  {
   "cell_type": "code",
   "execution_count": 80,
   "id": "c0e88235-5c79-4a44-a303-d2df3f9ec410",
   "metadata": {
    "tags": []
   },
   "outputs": [],
   "source": [
    "#import necessary libraries for problem solving\n",
    "import pandas as pd\n",
    "import numpy as np\n",
    "from sklearn.model_selection import train_test_split\n",
    "from sklearn import metrics"
   ]
  },
  {
   "cell_type": "code",
   "execution_count": 82,
   "id": "9fd2ffca-c87f-4b53-9101-a5681d66d1c2",
   "metadata": {
    "tags": []
   },
   "outputs": [],
   "source": [
    "# read data from Organics.csv into a dataframe\n",
    "file_path = r'C:\\Users\\jason\\OneDrive\\Documents\\MBAD 6211 LAST SEMESTER\\organics.csv'\n",
    "data = pd.read_csv(file_path)"
   ]
  },
  {
   "cell_type": "code",
   "execution_count": 84,
   "id": "96e1e1b2-7d0e-4a74-8dd5-8c80d77120fc",
   "metadata": {
    "tags": []
   },
   "outputs": [
    {
     "name": "stdout",
     "output_type": "stream",
     "text": [
      "<class 'pandas.core.frame.DataFrame'>\n",
      "RangeIndex: 22223 entries, 0 to 22222\n",
      "Data columns (total 8 columns):\n",
      " #   Column     Non-Null Count  Dtype  \n",
      "---  ------     --------------  -----  \n",
      " 0   ID         22223 non-null  int64  \n",
      " 1   DemAffl    21138 non-null  float64\n",
      " 2   DemAge     20715 non-null  float64\n",
      " 3   DemGender  19711 non-null  object \n",
      " 4   PromClass  22223 non-null  object \n",
      " 5   PromSpend  22223 non-null  float64\n",
      " 6   PromTime   21942 non-null  float64\n",
      " 7   TargetBuy  22223 non-null  int64  \n",
      "dtypes: float64(4), int64(2), object(2)\n",
      "memory usage: 1.4+ MB\n"
     ]
    }
   ],
   "source": [
    "# examine the dataframe's characteristics\n",
    "data.info()"
   ]
  },
  {
   "cell_type": "code",
   "execution_count": 86,
   "id": "dd1cba7b-9383-484a-a1c6-4ee6ccfa453b",
   "metadata": {
    "tags": []
   },
   "outputs": [
    {
     "data": {
      "text/plain": [
       "ID              0\n",
       "DemAffl      1085\n",
       "DemAge       1508\n",
       "DemGender    2512\n",
       "PromClass       0\n",
       "PromSpend       0\n",
       "PromTime      281\n",
       "TargetBuy       0\n",
       "dtype: int64"
      ]
     },
     "execution_count": 86,
     "metadata": {},
     "output_type": "execute_result"
    }
   ],
   "source": [
    "# count the rows with missing values\n",
    "data.isnull().sum()"
   ]
  },
  {
   "cell_type": "code",
   "execution_count": 88,
   "id": "bed12abb-0c5d-4cc9-a610-bf0c92e81bf1",
   "metadata": {
    "tags": []
   },
   "outputs": [
    {
     "name": "stdout",
     "output_type": "stream",
     "text": [
      "<class 'pandas.core.frame.DataFrame'>\n",
      "Index: 17272 entries, 0 to 22221\n",
      "Data columns (total 8 columns):\n",
      " #   Column     Non-Null Count  Dtype  \n",
      "---  ------     --------------  -----  \n",
      " 0   ID         17272 non-null  int64  \n",
      " 1   DemAffl    17272 non-null  float64\n",
      " 2   DemAge     17272 non-null  float64\n",
      " 3   DemGender  17272 non-null  object \n",
      " 4   PromClass  17272 non-null  object \n",
      " 5   PromSpend  17272 non-null  float64\n",
      " 6   PromTime   17272 non-null  float64\n",
      " 7   TargetBuy  17272 non-null  int64  \n",
      "dtypes: float64(4), int64(2), object(2)\n",
      "memory usage: 1.2+ MB\n"
     ]
    }
   ],
   "source": [
    "# drop rows with missing values\n",
    "data_nonull = data.dropna()\n",
    "data_nonull.info()"
   ]
  },
  {
   "cell_type": "code",
   "execution_count": 90,
   "id": "1d02e038-5285-417c-93fd-47e80406783c",
   "metadata": {
    "tags": []
   },
   "outputs": [
    {
     "data": {
      "text/html": [
       "<div>\n",
       "<style scoped>\n",
       "    .dataframe tbody tr th:only-of-type {\n",
       "        vertical-align: middle;\n",
       "    }\n",
       "\n",
       "    .dataframe tbody tr th {\n",
       "        vertical-align: top;\n",
       "    }\n",
       "\n",
       "    .dataframe thead th {\n",
       "        text-align: right;\n",
       "    }\n",
       "</style>\n",
       "<table border=\"1\" class=\"dataframe\">\n",
       "  <thead>\n",
       "    <tr style=\"text-align: right;\">\n",
       "      <th></th>\n",
       "      <th>DemAffl</th>\n",
       "      <th>DemAge</th>\n",
       "      <th>DemGender</th>\n",
       "      <th>PromClass</th>\n",
       "      <th>PromSpend</th>\n",
       "      <th>PromTime</th>\n",
       "      <th>TargetBuy</th>\n",
       "    </tr>\n",
       "  </thead>\n",
       "  <tbody>\n",
       "    <tr>\n",
       "      <th>0</th>\n",
       "      <td>10.0</td>\n",
       "      <td>76.0</td>\n",
       "      <td>U</td>\n",
       "      <td>Gold</td>\n",
       "      <td>16000.00</td>\n",
       "      <td>4.0</td>\n",
       "      <td>0</td>\n",
       "    </tr>\n",
       "    <tr>\n",
       "      <th>1</th>\n",
       "      <td>4.0</td>\n",
       "      <td>49.0</td>\n",
       "      <td>U</td>\n",
       "      <td>Gold</td>\n",
       "      <td>6000.00</td>\n",
       "      <td>5.0</td>\n",
       "      <td>0</td>\n",
       "    </tr>\n",
       "    <tr>\n",
       "      <th>2</th>\n",
       "      <td>5.0</td>\n",
       "      <td>70.0</td>\n",
       "      <td>F</td>\n",
       "      <td>Silver</td>\n",
       "      <td>0.02</td>\n",
       "      <td>8.0</td>\n",
       "      <td>1</td>\n",
       "    </tr>\n",
       "    <tr>\n",
       "      <th>3</th>\n",
       "      <td>10.0</td>\n",
       "      <td>65.0</td>\n",
       "      <td>M</td>\n",
       "      <td>Tin</td>\n",
       "      <td>0.01</td>\n",
       "      <td>7.0</td>\n",
       "      <td>1</td>\n",
       "    </tr>\n",
       "    <tr>\n",
       "      <th>4</th>\n",
       "      <td>11.0</td>\n",
       "      <td>68.0</td>\n",
       "      <td>F</td>\n",
       "      <td>Tin</td>\n",
       "      <td>0.01</td>\n",
       "      <td>8.0</td>\n",
       "      <td>0</td>\n",
       "    </tr>\n",
       "  </tbody>\n",
       "</table>\n",
       "</div>"
      ],
      "text/plain": [
       "   DemAffl  DemAge DemGender PromClass  PromSpend  PromTime  TargetBuy\n",
       "0     10.0    76.0         U      Gold   16000.00       4.0          0\n",
       "1      4.0    49.0         U      Gold    6000.00       5.0          0\n",
       "2      5.0    70.0         F    Silver       0.02       8.0          1\n",
       "3     10.0    65.0         M       Tin       0.01       7.0          1\n",
       "4     11.0    68.0         F       Tin       0.01       8.0          0"
      ]
     },
     "execution_count": 90,
     "metadata": {},
     "output_type": "execute_result"
    }
   ],
   "source": [
    "data_nonull = data_nonull.drop([\"ID\"], axis = 1)\n",
    "data_nonull.head()"
   ]
  },
  {
   "cell_type": "code",
   "execution_count": 92,
   "id": "421eec53-6b1f-4488-b096-bd3ed77fb250",
   "metadata": {
    "tags": []
   },
   "outputs": [
    {
     "data": {
      "text/html": [
       "<div>\n",
       "<style scoped>\n",
       "    .dataframe tbody tr th:only-of-type {\n",
       "        vertical-align: middle;\n",
       "    }\n",
       "\n",
       "    .dataframe tbody tr th {\n",
       "        vertical-align: top;\n",
       "    }\n",
       "\n",
       "    .dataframe thead th {\n",
       "        text-align: right;\n",
       "    }\n",
       "</style>\n",
       "<table border=\"1\" class=\"dataframe\">\n",
       "  <thead>\n",
       "    <tr style=\"text-align: right;\">\n",
       "      <th></th>\n",
       "      <th>DemAffl</th>\n",
       "      <th>DemAge</th>\n",
       "      <th>DemGender</th>\n",
       "      <th>PromClass</th>\n",
       "      <th>PromSpend</th>\n",
       "      <th>TargetBuy</th>\n",
       "    </tr>\n",
       "  </thead>\n",
       "  <tbody>\n",
       "    <tr>\n",
       "      <th>0</th>\n",
       "      <td>10.0</td>\n",
       "      <td>76.0</td>\n",
       "      <td>U</td>\n",
       "      <td>Gold</td>\n",
       "      <td>16000.00</td>\n",
       "      <td>0</td>\n",
       "    </tr>\n",
       "    <tr>\n",
       "      <th>1</th>\n",
       "      <td>4.0</td>\n",
       "      <td>49.0</td>\n",
       "      <td>U</td>\n",
       "      <td>Gold</td>\n",
       "      <td>6000.00</td>\n",
       "      <td>0</td>\n",
       "    </tr>\n",
       "    <tr>\n",
       "      <th>2</th>\n",
       "      <td>5.0</td>\n",
       "      <td>70.0</td>\n",
       "      <td>F</td>\n",
       "      <td>Silver</td>\n",
       "      <td>0.02</td>\n",
       "      <td>1</td>\n",
       "    </tr>\n",
       "    <tr>\n",
       "      <th>3</th>\n",
       "      <td>10.0</td>\n",
       "      <td>65.0</td>\n",
       "      <td>M</td>\n",
       "      <td>Tin</td>\n",
       "      <td>0.01</td>\n",
       "      <td>1</td>\n",
       "    </tr>\n",
       "    <tr>\n",
       "      <th>4</th>\n",
       "      <td>11.0</td>\n",
       "      <td>68.0</td>\n",
       "      <td>F</td>\n",
       "      <td>Tin</td>\n",
       "      <td>0.01</td>\n",
       "      <td>0</td>\n",
       "    </tr>\n",
       "  </tbody>\n",
       "</table>\n",
       "</div>"
      ],
      "text/plain": [
       "   DemAffl  DemAge DemGender PromClass  PromSpend  TargetBuy\n",
       "0     10.0    76.0         U      Gold   16000.00          0\n",
       "1      4.0    49.0         U      Gold    6000.00          0\n",
       "2      5.0    70.0         F    Silver       0.02          1\n",
       "3     10.0    65.0         M       Tin       0.01          1\n",
       "4     11.0    68.0         F       Tin       0.01          0"
      ]
     },
     "execution_count": 92,
     "metadata": {},
     "output_type": "execute_result"
    }
   ],
   "source": [
    "data_nonull = data_nonull.drop([\"PromTime\"], axis = 1)\n",
    "data_nonull.head()"
   ]
  },
  {
   "cell_type": "code",
   "execution_count": 94,
   "id": "224d2033-5bc1-426d-a58f-6156583dafd6",
   "metadata": {
    "tags": []
   },
   "outputs": [
    {
     "data": {
      "text/html": [
       "<div>\n",
       "<style scoped>\n",
       "    .dataframe tbody tr th:only-of-type {\n",
       "        vertical-align: middle;\n",
       "    }\n",
       "\n",
       "    .dataframe tbody tr th {\n",
       "        vertical-align: top;\n",
       "    }\n",
       "\n",
       "    .dataframe thead th {\n",
       "        text-align: right;\n",
       "    }\n",
       "</style>\n",
       "<table border=\"1\" class=\"dataframe\">\n",
       "  <thead>\n",
       "    <tr style=\"text-align: right;\">\n",
       "      <th></th>\n",
       "      <th>DemAffl</th>\n",
       "      <th>DemAge</th>\n",
       "      <th>PromSpend</th>\n",
       "      <th>TargetBuy</th>\n",
       "      <th>DemGender_F</th>\n",
       "      <th>DemGender_M</th>\n",
       "      <th>DemGender_U</th>\n",
       "      <th>PromClass_Gold</th>\n",
       "      <th>PromClass_Platinum</th>\n",
       "      <th>PromClass_Silver</th>\n",
       "      <th>PromClass_Tin</th>\n",
       "    </tr>\n",
       "  </thead>\n",
       "  <tbody>\n",
       "    <tr>\n",
       "      <th>0</th>\n",
       "      <td>10.0</td>\n",
       "      <td>76.0</td>\n",
       "      <td>16000.00</td>\n",
       "      <td>0</td>\n",
       "      <td>0</td>\n",
       "      <td>0</td>\n",
       "      <td>1</td>\n",
       "      <td>1</td>\n",
       "      <td>0</td>\n",
       "      <td>0</td>\n",
       "      <td>0</td>\n",
       "    </tr>\n",
       "    <tr>\n",
       "      <th>1</th>\n",
       "      <td>4.0</td>\n",
       "      <td>49.0</td>\n",
       "      <td>6000.00</td>\n",
       "      <td>0</td>\n",
       "      <td>0</td>\n",
       "      <td>0</td>\n",
       "      <td>1</td>\n",
       "      <td>1</td>\n",
       "      <td>0</td>\n",
       "      <td>0</td>\n",
       "      <td>0</td>\n",
       "    </tr>\n",
       "    <tr>\n",
       "      <th>2</th>\n",
       "      <td>5.0</td>\n",
       "      <td>70.0</td>\n",
       "      <td>0.02</td>\n",
       "      <td>1</td>\n",
       "      <td>1</td>\n",
       "      <td>0</td>\n",
       "      <td>0</td>\n",
       "      <td>0</td>\n",
       "      <td>0</td>\n",
       "      <td>1</td>\n",
       "      <td>0</td>\n",
       "    </tr>\n",
       "    <tr>\n",
       "      <th>3</th>\n",
       "      <td>10.0</td>\n",
       "      <td>65.0</td>\n",
       "      <td>0.01</td>\n",
       "      <td>1</td>\n",
       "      <td>0</td>\n",
       "      <td>1</td>\n",
       "      <td>0</td>\n",
       "      <td>0</td>\n",
       "      <td>0</td>\n",
       "      <td>0</td>\n",
       "      <td>1</td>\n",
       "    </tr>\n",
       "    <tr>\n",
       "      <th>4</th>\n",
       "      <td>11.0</td>\n",
       "      <td>68.0</td>\n",
       "      <td>0.01</td>\n",
       "      <td>0</td>\n",
       "      <td>1</td>\n",
       "      <td>0</td>\n",
       "      <td>0</td>\n",
       "      <td>0</td>\n",
       "      <td>0</td>\n",
       "      <td>0</td>\n",
       "      <td>1</td>\n",
       "    </tr>\n",
       "    <tr>\n",
       "      <th>...</th>\n",
       "      <td>...</td>\n",
       "      <td>...</td>\n",
       "      <td>...</td>\n",
       "      <td>...</td>\n",
       "      <td>...</td>\n",
       "      <td>...</td>\n",
       "      <td>...</td>\n",
       "      <td>...</td>\n",
       "      <td>...</td>\n",
       "      <td>...</td>\n",
       "      <td>...</td>\n",
       "    </tr>\n",
       "    <tr>\n",
       "      <th>22216</th>\n",
       "      <td>13.0</td>\n",
       "      <td>49.0</td>\n",
       "      <td>500.00</td>\n",
       "      <td>0</td>\n",
       "      <td>0</td>\n",
       "      <td>1</td>\n",
       "      <td>0</td>\n",
       "      <td>0</td>\n",
       "      <td>0</td>\n",
       "      <td>1</td>\n",
       "      <td>0</td>\n",
       "    </tr>\n",
       "    <tr>\n",
       "      <th>22218</th>\n",
       "      <td>13.0</td>\n",
       "      <td>65.0</td>\n",
       "      <td>1500.00</td>\n",
       "      <td>0</td>\n",
       "      <td>1</td>\n",
       "      <td>0</td>\n",
       "      <td>0</td>\n",
       "      <td>0</td>\n",
       "      <td>0</td>\n",
       "      <td>1</td>\n",
       "      <td>0</td>\n",
       "    </tr>\n",
       "    <tr>\n",
       "      <th>22219</th>\n",
       "      <td>15.0</td>\n",
       "      <td>73.0</td>\n",
       "      <td>6053.06</td>\n",
       "      <td>0</td>\n",
       "      <td>0</td>\n",
       "      <td>0</td>\n",
       "      <td>1</td>\n",
       "      <td>1</td>\n",
       "      <td>0</td>\n",
       "      <td>0</td>\n",
       "      <td>0</td>\n",
       "    </tr>\n",
       "    <tr>\n",
       "      <th>22220</th>\n",
       "      <td>9.0</td>\n",
       "      <td>70.0</td>\n",
       "      <td>6000.00</td>\n",
       "      <td>0</td>\n",
       "      <td>1</td>\n",
       "      <td>0</td>\n",
       "      <td>0</td>\n",
       "      <td>1</td>\n",
       "      <td>0</td>\n",
       "      <td>0</td>\n",
       "      <td>0</td>\n",
       "    </tr>\n",
       "    <tr>\n",
       "      <th>22221</th>\n",
       "      <td>11.0</td>\n",
       "      <td>66.0</td>\n",
       "      <td>5000.00</td>\n",
       "      <td>0</td>\n",
       "      <td>1</td>\n",
       "      <td>0</td>\n",
       "      <td>0</td>\n",
       "      <td>0</td>\n",
       "      <td>0</td>\n",
       "      <td>1</td>\n",
       "      <td>0</td>\n",
       "    </tr>\n",
       "  </tbody>\n",
       "</table>\n",
       "<p>17272 rows × 11 columns</p>\n",
       "</div>"
      ],
      "text/plain": [
       "       DemAffl  DemAge  PromSpend  TargetBuy  DemGender_F  DemGender_M  \\\n",
       "0         10.0    76.0   16000.00          0            0            0   \n",
       "1          4.0    49.0    6000.00          0            0            0   \n",
       "2          5.0    70.0       0.02          1            1            0   \n",
       "3         10.0    65.0       0.01          1            0            1   \n",
       "4         11.0    68.0       0.01          0            1            0   \n",
       "...        ...     ...        ...        ...          ...          ...   \n",
       "22216     13.0    49.0     500.00          0            0            1   \n",
       "22218     13.0    65.0    1500.00          0            1            0   \n",
       "22219     15.0    73.0    6053.06          0            0            0   \n",
       "22220      9.0    70.0    6000.00          0            1            0   \n",
       "22221     11.0    66.0    5000.00          0            1            0   \n",
       "\n",
       "       DemGender_U  PromClass_Gold  PromClass_Platinum  PromClass_Silver  \\\n",
       "0                1               1                   0                 0   \n",
       "1                1               1                   0                 0   \n",
       "2                0               0                   0                 1   \n",
       "3                0               0                   0                 0   \n",
       "4                0               0                   0                 0   \n",
       "...            ...             ...                 ...               ...   \n",
       "22216            0               0                   0                 1   \n",
       "22218            0               0                   0                 1   \n",
       "22219            1               1                   0                 0   \n",
       "22220            0               1                   0                 0   \n",
       "22221            0               0                   0                 1   \n",
       "\n",
       "       PromClass_Tin  \n",
       "0                  0  \n",
       "1                  0  \n",
       "2                  0  \n",
       "3                  1  \n",
       "4                  1  \n",
       "...              ...  \n",
       "22216              0  \n",
       "22218              0  \n",
       "22219              0  \n",
       "22220              0  \n",
       "22221              0  \n",
       "\n",
       "[17272 rows x 11 columns]"
      ]
     },
     "execution_count": 94,
     "metadata": {},
     "output_type": "execute_result"
    }
   ],
   "source": [
    "# us pd.getdummies() method to create the dummy columns\n",
    "# make sure to set parameter dtype = int.\n",
    "data_nonull = pd.get_dummies(data_nonull, dtype = int)\n",
    "data_nonull"
   ]
  },
  {
   "cell_type": "code",
   "execution_count": 96,
   "id": "a9209ac2-2cc4-4a43-9689-684d7d55e75a",
   "metadata": {
    "tags": []
   },
   "outputs": [],
   "source": [
    "# Set up the dependent and independent variables for the logistic regression\n",
    "# y is an array of the target values\n",
    "y = np.array(data_nonull[\"TargetBuy\"])\n",
    "\n",
    "\n",
    "# x is a dataframe of the needed independent variables\n",
    "x = data_nonull[[\"DemAffl\", \"DemAge\", \"PromSpend\", \"DemGender_F\", \"DemGender_M\", \"PromClass_Gold\", \"PromClass_Platinum\", \"PromClass_Silver\"]]\n"
   ]
  },
  {
   "cell_type": "code",
   "execution_count": 100,
   "id": "eab57ee2-38e6-4e71-a09f-a22485876307",
   "metadata": {
    "tags": []
   },
   "outputs": [],
   "source": [
    "# split the dataset into training and testing\n",
    "# since random sampling is used, set the random seed to a fixed value\n",
    "X_train, X_test, y_train, y_test = train_test_split(x, y, test_size = 0.30, random_state = 44)"
   ]
  },
  {
   "cell_type": "code",
   "execution_count": 102,
   "id": "6c8da9cb-10e0-4fb5-ac78-43270ca0730e",
   "metadata": {
    "tags": []
   },
   "outputs": [],
   "source": [
    "# ready to run Logistic regression model\n",
    "# add constants to the independent data frames\n",
    "X_train = sm.add_constant(X_train)\n",
    "X_test = sm.add_constant(X_test)"
   ]
  },
  {
   "cell_type": "code",
   "execution_count": 104,
   "id": "4caa8bc5-1fcd-4a8e-b11d-7094f8d1b3f9",
   "metadata": {
    "tags": []
   },
   "outputs": [
    {
     "name": "stdout",
     "output_type": "stream",
     "text": [
      "Optimization terminated successfully.\n",
      "         Current function value: 0.449580\n",
      "         Iterations 7\n",
      "                           Logit Regression Results                           \n",
      "==============================================================================\n",
      "Dep. Variable:                      y   No. Observations:                12090\n",
      "Model:                          Logit   Df Residuals:                    12081\n",
      "Method:                           MLE   Df Model:                            8\n",
      "Date:                Thu, 08 Feb 2024   Pseudo R-squ.:                  0.2229\n",
      "Time:                        21:54:42   Log-Likelihood:                -5435.4\n",
      "converged:                       True   LL-Null:                       -6994.9\n",
      "Covariance Type:            nonrobust   LLR p-value:                     0.000\n",
      "======================================================================================\n",
      "                         coef    std err          z      P>|z|      [0.025      0.975]\n",
      "--------------------------------------------------------------------------------------\n",
      "const                 -2.0926      0.175    -11.940      0.000      -2.436      -1.749\n",
      "DemAffl                0.2445      0.008     31.708      0.000       0.229       0.260\n",
      "DemAge                -0.0535      0.002    -26.388      0.000      -0.057      -0.050\n",
      "PromSpend          -1.107e-06   6.87e-06     -0.161      0.872   -1.46e-05    1.23e-05\n",
      "DemGender_F            1.9411      0.133     14.566      0.000       1.680       2.202\n",
      "DemGender_M            0.9627      0.140      6.898      0.000       0.689       1.236\n",
      "PromClass_Gold         0.0159      0.089      0.179      0.858      -0.158       0.190\n",
      "PromClass_Platinum    -0.2908      0.260     -1.119      0.263      -0.800       0.218\n",
      "PromClass_Silver      -0.0137      0.059     -0.234      0.815      -0.128       0.101\n",
      "======================================================================================\n"
     ]
    }
   ],
   "source": [
    "# Fit logistic regression model and get a summary of the results\n",
    "model = sm.Logit(y_train.astype(float), X_train.astype(float))\n",
    "result = model.fit()\n",
    "\n",
    "print(result.summary())"
   ]
  },
  {
   "cell_type": "code",
   "execution_count": 106,
   "id": "58c78bd6-cd69-4d89-8590-02a2add55543",
   "metadata": {
    "tags": []
   },
   "outputs": [
    {
     "data": {
      "text/html": [
       "<div>\n",
       "<style scoped>\n",
       "    .dataframe tbody tr th:only-of-type {\n",
       "        vertical-align: middle;\n",
       "    }\n",
       "\n",
       "    .dataframe tbody tr th {\n",
       "        vertical-align: top;\n",
       "    }\n",
       "\n",
       "    .dataframe thead th {\n",
       "        text-align: right;\n",
       "    }\n",
       "</style>\n",
       "<table border=\"1\" class=\"dataframe\">\n",
       "  <thead>\n",
       "    <tr style=\"text-align: right;\">\n",
       "      <th></th>\n",
       "      <th>const</th>\n",
       "      <th>DemAffl</th>\n",
       "      <th>DemAge</th>\n",
       "      <th>PromSpend</th>\n",
       "      <th>DemGender_F</th>\n",
       "      <th>DemGender_M</th>\n",
       "      <th>PromClass_Gold</th>\n",
       "      <th>PromClass_Platinum</th>\n",
       "      <th>PromClass_Silver</th>\n",
       "      <th>Predicted_Prob</th>\n",
       "    </tr>\n",
       "  </thead>\n",
       "  <tbody>\n",
       "    <tr>\n",
       "      <th>10588</th>\n",
       "      <td>1.0</td>\n",
       "      <td>6.0</td>\n",
       "      <td>34.0</td>\n",
       "      <td>6700.00</td>\n",
       "      <td>1</td>\n",
       "      <td>0</td>\n",
       "      <td>1</td>\n",
       "      <td>0</td>\n",
       "      <td>0</td>\n",
       "      <td>0.378802</td>\n",
       "    </tr>\n",
       "    <tr>\n",
       "      <th>15281</th>\n",
       "      <td>1.0</td>\n",
       "      <td>6.0</td>\n",
       "      <td>59.0</td>\n",
       "      <td>1000.00</td>\n",
       "      <td>0</td>\n",
       "      <td>1</td>\n",
       "      <td>0</td>\n",
       "      <td>0</td>\n",
       "      <td>1</td>\n",
       "      <td>0.055534</td>\n",
       "    </tr>\n",
       "    <tr>\n",
       "      <th>8921</th>\n",
       "      <td>1.0</td>\n",
       "      <td>11.0</td>\n",
       "      <td>55.0</td>\n",
       "      <td>6000.00</td>\n",
       "      <td>1</td>\n",
       "      <td>0</td>\n",
       "      <td>1</td>\n",
       "      <td>0</td>\n",
       "      <td>0</td>\n",
       "      <td>0.402603</td>\n",
       "    </tr>\n",
       "    <tr>\n",
       "      <th>20175</th>\n",
       "      <td>1.0</td>\n",
       "      <td>10.0</td>\n",
       "      <td>76.0</td>\n",
       "      <td>9000.00</td>\n",
       "      <td>1</td>\n",
       "      <td>0</td>\n",
       "      <td>1</td>\n",
       "      <td>0</td>\n",
       "      <td>0</td>\n",
       "      <td>0.146069</td>\n",
       "    </tr>\n",
       "    <tr>\n",
       "      <th>14592</th>\n",
       "      <td>1.0</td>\n",
       "      <td>10.0</td>\n",
       "      <td>40.0</td>\n",
       "      <td>0.01</td>\n",
       "      <td>0</td>\n",
       "      <td>0</td>\n",
       "      <td>0</td>\n",
       "      <td>0</td>\n",
       "      <td>0</td>\n",
       "      <td>0.143424</td>\n",
       "    </tr>\n",
       "  </tbody>\n",
       "</table>\n",
       "</div>"
      ],
      "text/plain": [
       "       const  DemAffl  DemAge  PromSpend  DemGender_F  DemGender_M  \\\n",
       "10588    1.0      6.0    34.0    6700.00            1            0   \n",
       "15281    1.0      6.0    59.0    1000.00            0            1   \n",
       "8921     1.0     11.0    55.0    6000.00            1            0   \n",
       "20175    1.0     10.0    76.0    9000.00            1            0   \n",
       "14592    1.0     10.0    40.0       0.01            0            0   \n",
       "\n",
       "       PromClass_Gold  PromClass_Platinum  PromClass_Silver  Predicted_Prob  \n",
       "10588               1                   0                 0        0.378802  \n",
       "15281               0                   0                 1        0.055534  \n",
       "8921                1                   0                 0        0.402603  \n",
       "20175               1                   0                 0        0.146069  \n",
       "14592               0                   0                 0        0.143424  "
      ]
     },
     "execution_count": 106,
     "metadata": {},
     "output_type": "execute_result"
    }
   ],
   "source": [
    "# Add Predictions of the test data for the confusion matrix\n",
    "X_test[\"Predicted_Prob\"] = result.predict(X_test)\n",
    "X_test.head()"
   ]
  },
  {
   "cell_type": "code",
   "execution_count": 108,
   "id": "0ab46caa-577b-46af-a5a1-0a5e4fe4d6b0",
   "metadata": {
    "tags": []
   },
   "outputs": [],
   "source": [
    "# convert the probabilities to prediction of 1 if probility >= 0.5, 0 otherwise\n",
    "predictions = (X_test[\"Predicted_Prob\"] >= 0.5).astype(int)"
   ]
  },
  {
   "cell_type": "code",
   "execution_count": 110,
   "id": "4fc92f4d-bd55-4c99-bfbc-ed8a875ee507",
   "metadata": {
    "tags": []
   },
   "outputs": [
    {
     "data": {
      "text/plain": [
       "10588    0\n",
       "15281    0\n",
       "8921     0\n",
       "20175    0\n",
       "14592    0\n",
       "        ..\n",
       "20050    0\n",
       "21925    0\n",
       "10631    0\n",
       "16430    0\n",
       "9579     0\n",
       "Name: Predicted_Prob, Length: 5182, dtype: int32"
      ]
     },
     "execution_count": 110,
     "metadata": {},
     "output_type": "execute_result"
    }
   ],
   "source": [
    "predictions"
   ]
  },
  {
   "cell_type": "code",
   "execution_count": 112,
   "id": "2bc45905-6171-48bf-b0d4-350457278250",
   "metadata": {
    "tags": []
   },
   "outputs": [
    {
     "data": {
      "text/plain": [
       "array([[3601,  216],\n",
       "       [ 796,  569]], dtype=int64)"
      ]
     },
     "execution_count": 112,
     "metadata": {},
     "output_type": "execute_result"
    }
   ],
   "source": [
    "# import metrics from sklearn\n",
    "from sklearn import metrics\n",
    "\n",
    "#compute confusion matrix\n",
    "conf_matrix = metrics.confusion_matrix(y_test, predictions)\n",
    "\n",
    "# print confusion matrix\n",
    "conf_matrix"
   ]
  },
  {
   "cell_type": "code",
   "execution_count": 115,
   "id": "94e1e2d4-4556-477a-aa5d-fcec296a52b1",
   "metadata": {
    "tags": []
   },
   "outputs": [
    {
     "name": "stdout",
     "output_type": "stream",
     "text": [
      "Accuracy: 0.8047086067155539\n",
      "Precision: 0.7248407643312101\n",
      "Recall: 0.41684981684981687\n",
      "F1 Score: 0.5293023255813953\n"
     ]
    }
   ],
   "source": [
    "from sklearn.metrics import confusion_matrix, accuracy_score, precision_score, recall_score, f1_score\n",
    "\n",
    "# Assuming the confusion matrix is stored in the variable cm\n",
    "cm = [[3601, 216], [796, 569]]\n",
    "\n",
    "# Extracting values from the confusion matrix\n",
    "TN, FP, FN, TP = cm[0][0], cm[0][1], cm[1][0], cm[1][1]\n",
    "\n",
    "accuracy = (TP + TN) / (TP + TN + FP + FN)\n",
    "precision = TP / (TP + FP)\n",
    "recall = TP / (TP + FN)\n",
    "f1 = 2 * (precision * recall) / (precision + recall)\n",
    "\n",
    "print(\"Accuracy:\", accuracy)\n",
    "print(\"Precision:\", precision)\n",
    "print(\"Recall:\", recall)\n",
    "print(\"F1 Score:\", f1)"
   ]
  },
  {
   "cell_type": "code",
   "execution_count": null,
   "id": "7ea81519-6853-40ef-b3dc-5c171bf88109",
   "metadata": {},
   "outputs": [],
   "source": []
  }
 ],
 "metadata": {
  "kernelspec": {
   "display_name": "Python 3 (ipykernel)",
   "language": "python",
   "name": "python3"
  },
  "language_info": {
   "codemirror_mode": {
    "name": "ipython",
    "version": 3
   },
   "file_extension": ".py",
   "mimetype": "text/x-python",
   "name": "python",
   "nbconvert_exporter": "python",
   "pygments_lexer": "ipython3",
   "version": "3.11.5"
  }
 },
 "nbformat": 4,
 "nbformat_minor": 5
}
